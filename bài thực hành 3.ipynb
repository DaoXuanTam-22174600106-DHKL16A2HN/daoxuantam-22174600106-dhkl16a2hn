{
 "cells": [
  {
   "cell_type": "code",
   "execution_count": 1,
   "id": "a34e6356",
   "metadata": {},
   "outputs": [
    {
     "name": "stdout",
     "output_type": "stream",
     "text": [
      "SECRET: LFYBMPVUKMSHCLFPB5BX3ZH6C2A577RF\n",
      "Đã tạo mã QR trong file 'otp_qr.png'\n"
     ]
    }
   ],
   "source": [
    "import pyotp\n",
    "import qrcode\n",
    "\n",
    "# 1. Sinh secret key\n",
    "secret = pyotp.random_base32()\n",
    "print(\"SECRET:\", secret)\n",
    "\n",
    "# 2. Ghi secret ra file để dùng lại\n",
    "with open(\"secret.txt\", \"w\") as f:\n",
    "    f.write(secret)\n",
    "\n",
    "# 3. Tạo URI chuẩn otpauth\n",
    "totp = pyotp.TOTP(secret)\n",
    "uri = totp.provisioning_uri(name=\"user@example1512.com\", issuer_name=\"MyMFAApp\")\n",
    "\n",
    "# 3. Tạo mã QR để quét\n",
    "img = qrcode.make(uri)\n",
    "img.save(\"otp_qr.png\")\n",
    "print(\"Đã tạo mã QR trong file 'otp_qr.png'\")"
   ]
  }
 ],
 "metadata": {
  "kernelspec": {
   "display_name": "Python 3",
   "language": "python",
   "name": "python3"
  },
  "language_info": {
   "codemirror_mode": {
    "name": "ipython",
    "version": 3
   },
   "file_extension": ".py",
   "mimetype": "text/x-python",
   "name": "python",
   "nbconvert_exporter": "python",
   "pygments_lexer": "ipython3",
   "version": "3.10.11"
  }
 },
 "nbformat": 4,
 "nbformat_minor": 5
}
