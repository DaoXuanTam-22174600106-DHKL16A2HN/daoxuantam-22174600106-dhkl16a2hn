{
  "nbformat": 4,
  "nbformat_minor": 0,
  "metadata": {
    "colab": {
      "provenance": []
    },
    "kernelspec": {
      "name": "python3",
      "display_name": "Python 3"
    },
    "language_info": {
      "name": "python"
    }
  },
  "cells": [
    {
      "cell_type": "code",
      "source": [
        "pip install scapy\n"
      ],
      "metadata": {
        "colab": {
          "base_uri": "https://localhost:8080/"
        },
        "id": "ux5wiqfLwkVM",
        "outputId": "5d3e44ad-db66-4641-c908-ecdcdc7e5ccb"
      },
      "execution_count": 27,
      "outputs": [
        {
          "output_type": "stream",
          "name": "stdout",
          "text": [
            "Collecting scapy\n",
            "  Downloading scapy-2.6.1-py3-none-any.whl.metadata (5.6 kB)\n",
            "Downloading scapy-2.6.1-py3-none-any.whl (2.4 MB)\n",
            "\u001b[2K   \u001b[90m━━━━━━━━━━━━━━━━━━━━━━━━━━━━━━━━━━━━━━━━\u001b[0m \u001b[32m2.4/2.4 MB\u001b[0m \u001b[31m23.8 MB/s\u001b[0m eta \u001b[36m0:00:00\u001b[0m\n",
            "\u001b[?25hInstalling collected packages: scapy\n",
            "Successfully installed scapy-2.6.1\n"
          ]
        }
      ]
    },
    {
      "cell_type": "code",
      "source": [
        "from scapy.all import rdpcap, Ether, IP\n",
        "\n",
        "# Đọc file .pcap (KHÔNG phải .pcapng)\n",
        "packets = rdpcap(\"/content/mangmaytinh.pcap\")  # phải là file .pcap đã chuyển từ .pcapng\n",
        "\n",
        "# Duyệt qua 10 gói đầu\n",
        "for i, pkt in enumerate(packets[:10]):\n",
        "    print(f\"\\n--- Gói {i+1} ---\")\n",
        "\n",
        "    # Tầng 2 - Ethernet\n",
        "    if Ether in pkt:\n",
        "        print(\"MAC nguồn:\", pkt[Ether].src)\n",
        "        print(\"MAC đích:\", pkt[Ether].dst)\n",
        "    else:\n",
        "        print(\"Không có Ethernet layer\")\n",
        "\n",
        "    # Tầng 3 - IP\n",
        "    if IP in pkt:\n",
        "        print(\"IP nguồn:\", pkt[IP].src)\n",
        "        print(\"IP đích:\", pkt[IP].dst)\n",
        "    else:\n",
        "        print(\"Không có IP layer\")\n"
      ],
      "metadata": {
        "colab": {
          "base_uri": "https://localhost:8080/"
        },
        "id": "2uPCHO31vzKu",
        "outputId": "cba9fd35-3b4f-4104-b5d8-1cb64f46a619"
      },
      "execution_count": 28,
      "outputs": [
        {
          "output_type": "stream",
          "name": "stdout",
          "text": [
            "\n",
            "--- Gói 1 ---\n",
            "MAC nguồn: f8:4f:ad:e4:56:34\n",
            "MAC đích: 0c:9a:3c:15:86:23\n",
            "IP nguồn: 172.31.41.83\n",
            "IP đích: 239.255.255.250\n",
            "\n",
            "--- Gói 2 ---\n",
            "MAC nguồn: ae:8f:32:95:e8:ab\n",
            "MAC đích: ff:ff:ff:ff:ff:ff\n",
            "Không có IP layer\n",
            "\n",
            "--- Gói 3 ---\n",
            "MAC nguồn: ec:c0:18:b7:18:5d\n",
            "MAC đích: 0c:9a:3c:15:86:23\n",
            "IP nguồn: 140.82.114.25\n",
            "IP đích: 172.31.41.208\n",
            "\n",
            "--- Gói 4 ---\n",
            "MAC nguồn: 0c:9a:3c:15:86:23\n",
            "MAC đích: ec:c0:18:b7:18:5d\n",
            "IP nguồn: 172.31.41.208\n",
            "IP đích: 140.82.114.25\n",
            "\n",
            "--- Gói 5 ---\n",
            "MAC nguồn: 0c:9a:3c:15:86:23\n",
            "MAC đích: f8:4f:ad:e4:58:c6\n",
            "IP nguồn: 172.31.41.208\n",
            "IP đích: 172.31.34.68\n",
            "\n",
            "--- Gói 6 ---\n",
            "MAC nguồn: 0c:9a:3c:15:86:23\n",
            "MAC đích: f8:4f:ad:e4:58:c6\n",
            "IP nguồn: 172.31.41.208\n",
            "IP đích: 172.31.34.68\n",
            "\n",
            "--- Gói 7 ---\n",
            "MAC nguồn: f8:4f:ad:e4:58:c6\n",
            "MAC đích: 0c:9a:3c:15:86:23\n",
            "IP nguồn: 172.31.34.68\n",
            "IP đích: 172.31.41.208\n",
            "\n",
            "--- Gói 8 ---\n",
            "MAC nguồn: f8:4f:ad:e4:58:c6\n",
            "MAC đích: 0c:9a:3c:15:86:23\n",
            "IP nguồn: 172.31.34.68\n",
            "IP đích: 172.31.41.208\n",
            "\n",
            "--- Gói 9 ---\n",
            "MAC nguồn: f8:4f:ad:e4:5b:26\n",
            "MAC đích: 0c:9a:3c:15:86:23\n",
            "IP nguồn: 172.31.44.31\n",
            "IP đích: 239.255.255.250\n",
            "\n",
            "--- Gói 10 ---\n",
            "MAC nguồn: 0c:9a:3c:15:86:23\n",
            "MAC đích: f8:4f:ad:e4:58:c6\n",
            "IP nguồn: 172.31.41.208\n",
            "IP đích: 172.31.34.68\n"
          ]
        }
      ]
    }
  ]
}